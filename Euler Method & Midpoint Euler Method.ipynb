{
 "cells": [
  {
   "cell_type": "markdown",
   "metadata": {},
   "source": [
    "# Laboratorio de Control Inteligente - Parte II\n",
    "\n",
    "__MSc César Arturo Ángeles Ruiz__\n",
    "\n",
    "\n",
    "\n",
    "## Programación Orientada a Agentes II\n",
    "\n",
    "### Introducción\n",
    "\n",
    "Recordando uno de los aspectos más importantes en inteligencia artificial, es la capacidad de desarrollar código que cumpla con los siguientes requisitos: \n",
    "\n",
    "- __Preciso (Buenas metricas de performance)__ \n",
    "- __Termine de ejecutar en tiempo finito (óptimo en tiempo)__\n",
    "- __Pueda ser deployable en la arquitectura deseada (óptimo en memoria)__\n",
    "- __Reusable__\n",
    "- __Updateable__\n",
    "\n",
    "Es por eso que es importante conocer y utilizar el paradigma correcto para su desarrollo, tomando en cuenta su implementación en __software y el hardware__ que va a ser utilizado. \n",
    "\n",
    "En los últimos, nuevos paradigmas han surgido tratando de cubrir todas estas necesidades de la manera más óptima y efectiva. Una de estas, y de las más utilizadas, surgen del paradigma de __Programación Orientada a Objetos__ u __OOP__. Este paradigma logra encapsular comportamiento y datos dentro de su misma memoria, de tal manera que solo el tiene el control y poder de modificarlo! (Genial cuando no queremos que algo externo cambie las variables medidas o a actuar. De la misma manera, el __Paradigma Basado en Agentes__ (o datos) __DOP__, toma la memoria como la estructura de datos central y una serie de transformadores (o transformers, yeah!) como las operaciones que peude realizar. \n",
    "\n",
    "En esta segunda parte de nuestro primer laboratorio, comenzaremos a utilizar conceptos de encapsulamiento y optimización de software sobre hardware. Para ello, comenzaremos conociendo la manera en que nuestro lenguaje de programación seleccionado, __Python__, maneja el concepto de encapsulamiento a través de objetos y clases. Continuaremos con el desarrollo de nuestros primeros agentes capaces de \"Observar el futuro\" con una dinámica definida por un modelo diferencial y terminaremos observando el tiempo y la memoria utilizada para su evolución.\n",
    "\n",
    "El propósito de este laboratorio sigue siendo el reconocimiento del lenguaje de programación, en conjunto con un repaso de contro clásico, modelado y optimización. \n",
    "\n",
    "Mucha suerte y May the Force be with you! \n",
    "\n",
    "\n",
    "<img src=\"imgs/maytheforce.jpg\" alt=\"Drawing\" style=\"width: 150px;\"/>\n",
    "\n",
    "\n",
    "## Encapsulamiento\n",
    "\n",
    "Como muchos ya sabrán, y hemos platicado, __Python__ es un lenguaje multiparadigma enfocado principalmente en su implementación con objetos. Recordemos que el concepto principal de un agente es que se representa como una entidad cerrada con estados internos, sensores, perceptores, memoria y actuadores. \n",
    "\n",
    "__Los estados internos__ solo pueden evolucionar de acuerdo al deseo del agente a través de la percepción con el ambiente. Esta __percepción__ es reconocida o transferida a partir de sus __sensores y/o perceptores__, los cuales generan una excitación o aprendizaje que es almacenado o fetcheada de su __memoria__. Al final decidiendo si actuar o no de regreso al mismo ambiente a través de sus __actuadores__.\n",
    "\n",
    "<img src=\"imgs/agent.png\" alt=\"Drawing\" style=\"width: 500px;\"/>\n",
    "\n",
    "\n",
    "### Clases en Python \n",
    "\n",
    "\n",
    "El encapsulamiento de estos agentes serán definidos a través de objetos instanciados a través de clases. \n",
    "En __Python__ una clase define la estructura interna que un objeto va a obtener una vez que es inicializado o instanciado para su utilización. Es como el __blueprint o esquema__ de todos los objetos que esa clase genera. \n",
    "\n",
    "<img src=\"imgs/blueprint.jpg\" alt=\"Drawing\" style=\"width: 150px;\"/>\n",
    "\n",
    "Para declarar una nueva clase, python requiere que indiques el inicio de la definición a través del keyword __class < class_name >__. e.g.\n",
    "\n",
    "\n",
    "```python\n",
    "class agent:\n",
    "    \n",
    "    class_name = 'Agent'\n",
    "    mood = 'Happy'\n",
    "    \n",
    "    ...\n",
    "```\n",
    "\n",
    "En contraste de la programación imperativa, cuando hablamos de clases, hablamos de entidades operacionales que conjuntan operaciones y estados en si mismas. Es decir, cada clase tiene variables internas que almacenan estados propios de la clase que todas instancias son capaces de ver, conocidas como __class variables__ o variables de clase. Además de estas, cada objeto de una clase también cuenta con variables que son propias de cada objeto derivado de esta clase. Estas son comunmente referidas como __instance variables__ o variables de instancia, y cada objeto tendrá una propia. Por último, cada clase es capaz de ejecutar comportamientos para cambiar de estado y para comunicarse con otros objetos. Para ello utilizan __métodos__ o funciones con parámetros y valores de retorno como los utilizados comunmente:\n",
    "\n",
    "En resúmen, el encapsulamiento de __Python__ se basa en: \n",
    "\n",
    "- Generar el blueprint o estructura que los objetos tendrán a partir de su definición de __clases__.\n",
    "- Utilización de variables propias de las __clases__ que son comunes entre ellas. (pueden usarse para comunicación! 🙌🏻)\n",
    "- Variables internas propias que generan individualidad de clases en cada __instancia__.\n",
    "- Métodos utilizados para el cambio de estado o comunicación con otros objetos.\n",
    "\n",
    "\n",
    "\n",
    "### Métodos y variables de clase\n",
    "\n",
    "\n",
    "\n",
    "En __Python__, los __métodos y variables de clase__ contienen como primer argumento la palabra __self__. Esto indica al interprete de python, que la variable a acceder se encuentra dentro de la memoria del objeto (en el caso de variables). Si se encuentra en la definición del método, entonces pasa como primer argumento una referencia a una instancia de la clase:\n",
    "\n",
    "El __método__ más importante en cualquier paradigma de objetos es el método de inicialización o __constructor__. Este método se llama cada vez para generar un nuevo objeto y está encargado tanto de la alocación de memoria, como la inicialización de variables de instancia y otros métodos. \n",
    "\n",
    "\n",
    "Por ejemplo, el blueprint de un agente sencillo y feliz, juntando todos los conceptos superiores serîa:\n",
    "\n",
    "E.g\n",
    "\n",
    "```python\n",
    "class SAgent: # Class definition \n",
    "    \"\"\"Class SAgent\n",
    "    \n",
    "        The class Agent stores the behaviour and methods of silly agents\n",
    "        \n",
    "        Parameters:\n",
    "        -----------\n",
    "        \n",
    "            Public:\n",
    "                class_name String:\n",
    "                        String name of the class\n",
    "                mood String:\n",
    "                        All of our agents have the same brain\n",
    "                        \n",
    "            Private:\n",
    "                name String:\n",
    "                    Individual Agent name (Could be Pedro for example)\n",
    "                state String:\n",
    "                    Performing action\n",
    "                    \n",
    "        Methods:\n",
    "        --------\n",
    "            \n",
    "            SAgent(name):\n",
    "                Constructor\n",
    "            \n",
    "            say_my_name():\n",
    "                What is my name?\n",
    "                \n",
    "            what_you_doin():\n",
    "                What would you be up for?\n",
    "                    \n",
    "    \n",
    "    \"\"\"\n",
    "    \n",
    "    \n",
    "    class_name = 'Silly Agent' # Class variable \n",
    "    mood = 'Happy'\n",
    "    \n",
    "    \n",
    "    def __init__(self, name): # Class initialisation method\n",
    "        self.name = name # Instance variable\n",
    "        self.state = 'sleeping'\n",
    "    \n",
    "    def say_my_name(self):\n",
    "        print('my name is: '+self.name)\n",
    "        \n",
    "    def what_you_doin(self):\n",
    "        print(self.action)\n",
    "```\n",
    "\n",
    "\n",
    "\n",
    "## Reto I\n",
    "\n",
    "En este reto generaremos agentes capaces de predecir o evolucionar funciones en el tiempo a través del método visto en clase. Para ello requerimos que se genere el desarrollo de la primer clase de agente computacional, un __AgentePredictor__ de segundo orden. \n",
    "\n",
    "Genera una clase que sea (un agente mas productivo que el anterior) un __AgentePredictor__ que tenga como variables internas:\n",
    "\n",
    "    - Nombre de clase\n",
    "    - Nombre de agente o fenómeno\n",
    "    - Coefficientes de funcion de transferencia en forma de espacio de estados\n",
    "    - Vector temporal\n",
    "    - Vector de evolución\n",
    "\n",
    "Tambien de incluir los métodos de inicialización:\n",
    "\n",
    "    - Constructor\n",
    "    - Inicialización nombres de agente y fenómeno\n",
    "    - Inicialización de su Dinámica\n",
    "    - Inicialización de vectores de tiempo \n",
    "    - Método de evolución en el tiempo\n",
    "    \n",
    "    \n",
    "Pruébalo con la siguiente función de transferencia!\n",
    "\n",
    "\n"
   ]
  },
  {
   "cell_type": "code",
   "execution_count": 3,
   "metadata": {},
   "outputs": [],
   "source": [
    "#Importacion de metodos,librerías\n",
    "import numpy as np\n",
    "import matplotlib.pyplot as plt\n",
    "from scipy import signal\n",
    "from DynamicSystem import euler_method\n",
    "from DynamicSystem import signal_plot"
   ]
  },
  {
   "cell_type": "code",
   "execution_count": 4,
   "metadata": {},
   "outputs": [],
   "source": [
    "def wrapper(*params):\n",
    "    \"\"\"\n",
    "    Returns a second order state matrix F(X,T,U) function set with the form:\n",
    "    \n",
    "                        .    \n",
    "                        X = F(X,T,U)\n",
    "                        .\n",
    "                        X = A X + B U\n",
    "    \n",
    "    Parameters:\n",
    "    -----------\n",
    "        \n",
    "        x : ndarray of shape (n_points)\n",
    "            Dependent sampled state variable \n",
    "        t : ndarray of shape (n_points)\n",
    "            Independent sampled evoluton variable\n",
    "            \n",
    "        params : n_tuple\n",
    "            {a0, a1, b0, in_func}\n",
    "                a0 : float\n",
    "                    y' coefficient of dynamic system\n",
    "                a1 : float\n",
    "                    y coefficient of dynamic system\n",
    "                b0 : float\n",
    "                    x coefficient of dynamic system\n",
    "                in_func : callable\n",
    "                    independent forced function. Should be of the form\n",
    "                    fun(t, d_t)\n",
    "    \n",
    "    \"\"\"\n",
    "    \n",
    "    a0, a1, b0, in_fun = params\n",
    "    \n",
    "    def state_matrix(t, x, d_t):\n",
    "        \n",
    "        Ad = np.array([[ -a0, -a1],\n",
    "                       [ 1  ,  0 ]])\n",
    "        B = np.array([b0, 0])\n",
    "    \n",
    "        return np.matmul(Ad, x) + B * in_fun(t, d_t)\n",
    "        \n",
    "    return state_matrix"
   ]
  },
  {
   "cell_type": "code",
   "execution_count": 5,
   "metadata": {},
   "outputs": [],
   "source": [
    "#Funcion de midpoint euler\n",
    "def modified_euler(t, f_y_t, Vin):\n",
    "    y = [[0,0]] #Condiciones iniciales\n",
    "    dt = t[1] - t[0] #Diferencia entre puntos de tiempo\n",
    "    dth = dt/2\n",
    "    i = 0\n",
    "    \n",
    "    for time in t:\n",
    "        th = time + dth\n",
    "        yh = y[i] + dth*f_y_t(time,y[i],dt) \n",
    "        y.append(dt*(f_y_t(th,yh,dt)) + y[i]) \n",
    "        i = i + 1\n",
    "    return np.array(y)\n",
    "    "
   ]
  },
  {
   "cell_type": "code",
   "execution_count": 6,
   "metadata": {},
   "outputs": [],
   "source": [
    "##### Tu código aqui!!!\n",
    "class Agente:\n",
    "    \n",
    "    class_name = 'Seb'\n",
    "    \n",
    "    #Inicializacion de la clase\n",
    "    '''Argumentos\n",
    "    \n",
    "        name: String\n",
    "                Nombre del Agente\n",
    "        a0 : float\n",
    "                 y' coefficient of dynamic system\n",
    "        a1 : float\n",
    "                 y coefficient of dynamic system\n",
    "        b0 : float\n",
    "                 x coefficient of dynamic system\n",
    "        tmax : float\n",
    "                 tiempo máximo al cual queremos predecir\n",
    "        tam : float\n",
    "                 # de puntos entre 0 y tmax\n",
    "    \n",
    "    '''\n",
    "    \n",
    "    def __init__(self,name,a0,a1,b0,tmax,tam): \n",
    "        self.t_e = np.linspace(0,tmax,tam) #Vector de tiempo para metodo de euler\n",
    "        self.nombre(name) #Nombre del Agente\n",
    "        self.trans_func(a0,a1,b0) #Obtención de los coeficientes de estados\n",
    "        self.vectores() #Creacion de vectores a utilizar\n",
    "        self.ss = wrapper(self.A1, self.A0, self.B0, lambda x, d_t: 1) #Creacion y definicion del wrapper de espacio de estados\n",
    "        self.vect_euler = euler_method(self.t_e, self.ss, self.vect_euler, lambda x, d_t: 1) #Obtencion de prediccion a traves del metodo de euler\n",
    "    \n",
    "    def nombre(self,name):\n",
    "        self.name = name\n",
    "    \n",
    "    def trans_func(self,a0,a1,b0):\n",
    "        self.A0 = a0\n",
    "        self.A1 = a1\n",
    "        self.B0 = b0\n",
    "        self.ss = []\n",
    "    \n",
    "    def vectores(self):\n",
    "        self.vect_temp = []   \n",
    "        self.vect_evol = []\n",
    "        self.vect_euler = [0,0]\n",
    "        self.vect_mid_euler = []"
   ]
  },
  {
   "cell_type": "markdown",
   "metadata": {},
   "source": [
    "## Evolucionador\n",
    "\n",
    "Una vez que hayas generado la clase! Es momento de generar el método de evolción en el tiempo. \n",
    "Recuerda, según lo visto en clase, requerimos de la representación en espacio de estados en phases para poder extraer a información numericamente!\n",
    "\n",
    "Define los siguientes métodos y evoluciona el sistema:\n",
    "\n",
    "    - Plotter (despliegue la evolución en tiempo si es que existe)\n",
    "    - System_error (compara el error de la evolución del agente y otra externa)\n",
    "    - root_locus (despliegue los polos y ceros del sistema)\n",
    "    \n"
   ]
  },
  {
   "cell_type": "code",
   "execution_count": 10,
   "metadata": {},
   "outputs": [],
   "source": [
    "def plotter(vector1,vector2,vector3,label1,label2,label3,tmax,tam):\n",
    "    '''\n",
    "    Funcion que va a plottear el vector1,vector2 y vector3 conforme al vector de tiempo de 0 a tmax, con tam puntos\n",
    "    \n",
    "    Parameters:\n",
    "    -----------\n",
    "            vector1 : np.array([y1,y2,.....,yn])\n",
    "                Vector a ser ploteado\n",
    "            \n",
    "            vector2 : np.array([z1,z2,.....,yn])\n",
    "                Vector a ser ploteado\n",
    "            \n",
    "            vector3 : np.array([x1,x2,.....,xn])\n",
    "                Vector a ser ploteado\n",
    "            \n",
    "            label1 : String\n",
    "                Texto que a aparecer para el vector1 en la leyenda del plot\n",
    "            \n",
    "            label2 : String\n",
    "                Texto que a aparecer para el vector2 en la leyenda del plot\n",
    "            \n",
    "            label2 : String\n",
    "                Texto que a aparecer para el vector3 en la leyenda del plot\n",
    "    \n",
    "            tmax : float\n",
    "                tiempo máximo al cual queremos predecir\n",
    "            \n",
    "            tam : float\n",
    "                # de puntos entre 0 y tmax\n",
    "    \n",
    "    Returns:\n",
    "    --------\n",
    "        plot de vector1, vector2 y vector 3\n",
    "    \n",
    "    \n",
    "'''\n",
    "    t2 = np.linspace(0,tmax,tam)\n",
    "    plt.figure(figsize=(10,7))\n",
    "    plt.plot(t2,vector1[:tam],label=label1)\n",
    "    plt.plot(t2,vector2[:tam],label=label2)\n",
    "    plt.plot(t2,vector3[:tam],label=label3)\n",
    "    plt.grid()\n",
    "    plt.legend()\n",
    "    \n",
    "    \n",
    "def System_error(y1,y2):\n",
    "    '''\n",
    "    Función que va a calcular el error entre dos vectores de misma longitud\n",
    "    Parameters:\n",
    "    -----------\n",
    "           y1 : np.array([y1,y2,.....,yn])\n",
    "                Vector de resultado de algun metodo de prediccion\n",
    "    \n",
    "           y2 : np.array([z1,z2,.....,zn])\n",
    "                Vector de resultado de algun metodo de prediccion\n",
    "        \n",
    "    Returns:\n",
    "    --------\n",
    "       ndarray: \n",
    "            Vector de error, de len(y1)\n",
    " '''\n",
    "    Error = []\n",
    "    i = 0\n",
    "    for j in y2:\n",
    "        error = y2[i] - y1[i]\n",
    "        if(error < 0):\n",
    "            error = error*-1\n",
    "        i = i+1\n",
    "        Error.append(error)\n",
    "    return np.array(Error)\n",
    "\n",
    "def root_locus(a0,a1,b0,orden_den,orden_num):\n",
    "    \n",
    "    if(orden_den == 2):\n",
    "        p = np.array([1,a1,a0])\n",
    "    if(orden_num == 1):\n",
    "        z = np.array([b0,0])\n",
    "    if(orden_num == 0):\n",
    "        z = np.array([0,b0])\n",
    "        print('No hay ceros')\n",
    "    zeros = np.roots(z)\n",
    "    polos = np.roots(p)\n",
    "    fig = plt.figure()\n",
    "    ax1 = fig.add_subplot(111)\n",
    "\n",
    "    ax1.scatter(polos.real, polos.imag, s=10, c='b', marker=\"s\", label='polos')\n",
    "    ax1.scatter(zeros.real,zeros.imag, s=10, c='r', marker=\"o\", label='ceros')\n",
    "    plt.legend(loc='upper right');\n",
    "    plt.grid()\n",
    "    plt.xlabel('X')\n",
    "    plt.ylabel('Y[j]')\n",
    "    plt.show()\n",
    "    return print('Los polos del sistemas son:',polos,'y los ceros son:',zeros)"
   ]
  },
  {
   "cell_type": "code",
   "execution_count": 11,
   "metadata": {},
   "outputs": [
    {
     "name": "stdout",
     "output_type": "stream",
     "text": [
      "(2, 41)\n"
     ]
    }
   ],
   "source": [
    "#Creacion primer agente\n",
    "R = 10\n",
    "L = 0.01\n",
    "C = 0.0000039\n",
    "a0 = 1.0/(L*C)\n",
    "a1 = R/L\n",
    "b0 = 1.0/L\n",
    "tmax1 = 1\n",
    "tam1 = 40\n",
    "Sebas = Agente('Seb',a0,a1,b0,tmax1,tam1)"
   ]
  },
  {
   "cell_type": "code",
   "execution_count": 12,
   "metadata": {},
   "outputs": [
    {
     "data": {
      "image/png": "[encoded data removed]",
      "text/plain": [
       "<Figure size 432x288 with 1 Axes>"
      ]
     },
     "metadata": {
      "needs_background": "light"
     },
     "output_type": "display_data"
    },
    {
     "name": "stdout",
     "output_type": "stream",
     "text": [
      "Los polos del sistemas son: [-500.+5038.95084725j -500.-5038.95084725j] y los ceros son: [0.]\n"
     ]
    }
   ],
   "source": [
    "root_locus(Sebas.A0,Sebas.A1,Sebas.B0,2,1) #Obtencion de raices, a traves del agente"
   ]
  },
  {
   "cell_type": "markdown",
   "metadata": {},
   "source": [
    "## Setters\n",
    "\n",
    "Como pudiste observar, muchas veces hay funciones que incluyen definiciones o variables de instancia que parecen crearse cada vez que la función es utilizada. Python permite, a través de su interprete y objetos settear valores que serán constantes. Estos son conocidos como setters y funcionan de la siguiente manera:\n",
    "\n",
    "Una funcion auxiliar o __wrapper__, recibe los parámetros a definir y los settea dentro de la definición de otra función. Una vez realizada la operación, la función wrapper regresa como __objeto__ la función con el nuevo comportamiento ya definido! La función wrapper puede recibir tanto como los __setter parameters__ como los parámetros que la función generada vaya a recibir posteriormente.\n",
    "\n",
    "\n",
    "E.g.\n",
    "\n",
    "\n",
    "```python\n",
    "def wrapper(*params):\n",
    "    \"\"\"\n",
    "    Returns a second order state matrix F(X,T,U) function set with the form:\n",
    "    \n",
    "                        .    \n",
    "                        X = F(X,T,U)\n",
    "                        .\n",
    "                        X = A X + B U\n",
    "    \n",
    "    Parameters:\n",
    "    -----------\n",
    "        \n",
    "        x : ndarray of shape (n_points)\n",
    "            Dependent sampled state variable \n",
    "        t : ndarray of shape (n_points)\n",
    "            Independent sampled evoluton variable\n",
    "            \n",
    "        params : n_tuple\n",
    "            {a0, a1, b0, in_func}\n",
    "                a0 : float\n",
    "                    y' coefficient of dynamic system\n",
    "                a1 : float\n",
    "                    y coefficient of dynamic system\n",
    "                b0 : float\n",
    "                    x coefficient of dynamic system\n",
    "                in_func : callable\n",
    "                    independent forced function. Should be of the form\n",
    "                    fun(t, d_t)\n",
    "    \n",
    "    \"\"\"\n",
    "    \n",
    "    a0, a1, b0, in_fun = params\n",
    "    \n",
    "    def state_matrix(x, t, d_t):\n",
    "        \n",
    "        Ad = np.array([[ -a0, -a1],\n",
    "                       [ 1  ,  0 ]])\n",
    "        B = np.array([b0, 0])\n",
    "        \n",
    "            return np.matmul(Ad, x) + B * in_fun(t, d_t)\n",
    "        \n",
    "    return state_matrix\n",
    "    \n",
    "        \n",
    "    \n",
    "    \n",
    "```\n"
   ]
  },
  {
   "cell_type": "markdown",
   "metadata": {},
   "source": [
    "## Método de predicción de Euler\n",
    "\n",
    "Uno de los métodos de predicción en tiempo, es el método de Euler. Este método es utilizado cuando se tiene una idea de la dinámica del sistema pero la evolución no cuenta con solución analítica. \n",
    "\n",
    "Comenzó como un método de númerico sencillo pero ha evolucionado para ser un método de predicción de series de tiempo y aprendizaje computacional. \n",
    "\n",
    "E.g.\n",
    "\n",
    "Las siguientes lineas de código representan la evolución de un sistema dinámico de segundo orden utilizando el método de Euler.\n",
    "\n",
    "\n",
    "\n",
    "$$H(S) = \\frac{400}{S^2 + 16S + 400}$$\n",
    "\n",
    "\n",
    "La respuesta al escalón es computada en las siguientes celdas.\n",
    "\n"
   ]
  },
  {
   "cell_type": "code",
   "execution_count": 8,
   "metadata": {},
   "outputs": [
    {
     "name": "stdout",
     "output_type": "stream",
     "text": [
      "(2, 41)\n"
     ]
    },
    {
     "data": {
      "image/png": "[encoded data removed]",
      "text/plain": [
       "<Figure size 576x432 with 1 Axes>"
      ]
     },
     "metadata": {
      "needs_background": "light"
     },
     "output_type": "display_data"
    }
   ],
   "source": [
    "# Implementación de la evolución en tiempo de la matriz de estados de circuito I a función Escalón\n",
    "t_e = np.linspace(0, 1, 40)\n",
    "y0_e = [0, 0]\n",
    "state_matrix_e = wrapper(16, 400, 400, lambda x, d_t: 1) \n",
    "y_e = euler_method(t_e, state_matrix_e, y0_e, lambda x, d_t: 1)\n",
    "signal_plot(t_e,y_e, figsize = [8,6], vin = lambda x: np.array([1]*len(t_e)))"
   ]
  },
  {
   "cell_type": "markdown",
   "metadata": {},
   "source": [
    "\n"
   ]
  },
  {
   "cell_type": "markdown",
   "metadata": {},
   "source": [
    "### Precisión de la solución\n",
    "\n",
    "Implementa la versión extendida del método de Euler y compara el error de las señales. Utiliza la clase Agente para evolucionar el sistema internamente del agente.\n",
    "Compara las señales con los mismos vectores de tiempo y frequencia de sampling. "
   ]
  },
  {
   "cell_type": "code",
   "execution_count": 9,
   "metadata": {},
   "outputs": [
    {
     "name": "stdout",
     "output_type": "stream",
     "text": [
      "(2, 501)\n"
     ]
    }
   ],
   "source": [
    "a1 = 16\n",
    "a0 = 400\n",
    "b0 = 400\n",
    "tmax3 = 1\n",
    "tam3 = 500 #Tiempo de error minimo entre  metodo de euler y mid euler\n",
    "Ejercicio = Agente('Ejercicio',a0,a1,b0,tmax=tmax3,tam=tam3) #Creacion de agente"
   ]
  },
  {
   "cell_type": "code",
   "execution_count": 10,
   "metadata": {},
   "outputs": [
    {
     "name": "stdout",
     "output_type": "stream",
     "text": [
      "No hay ceros\n"
     ]
    },
    {
     "data": {
      "image/png": "[encoded data removed]",
      "text/plain": [
       "<Figure size 432x288 with 1 Axes>"
      ]
     },
     "metadata": {
      "needs_background": "light"
     },
     "output_type": "display_data"
    },
    {
     "name": "stdout",
     "output_type": "stream",
     "text": [
      "Los polos del sistemas son: [-8.+18.33030278j -8.-18.33030278j] y los ceros son: []\n"
     ]
    }
   ],
   "source": [
    "root_locus(Ejercicio.A0,Ejercicio.A1,Ejercicio.B0,2,0) #Obtencion de polos y ceros del sistema"
   ]
  },
  {
   "cell_type": "code",
   "execution_count": 11,
   "metadata": {},
   "outputs": [],
   "source": [
    "Ejercicio.vect_mid_euler = modified_euler(Ejercicio.t_e,Ejercicio.ss,lambda x,d_t:1) #Obtencion del vector de evolucion a traves del metodo midpoint euler  \n",
    "Ejercicio.vect_temp = System_error(Ejercicio.vect_mid_euler[:,1],Ejercicio.vect_euler[1,:]) #Obtencion del error entre el metodo de euler y midpoint euler"
   ]
  },
  {
   "cell_type": "code",
   "execution_count": 12,
   "metadata": {},
   "outputs": [
    {
     "data": {
      "image/png": "[encoded data removed]",
      "text/plain": [
       "<Figure size 720x504 with 1 Axes>"
      ]
     },
     "metadata": {
      "needs_background": "light"
     },
     "output_type": "display_data"
    }
   ],
   "source": [
    "plotter(Ejercicio.vect_temp,Ejercicio.vect_euler[1,:],Ejercicio.vect_mid_euler[:,1],'Error','EulerMethod','MidpointEulerMethod',tmax3,tam3)"
   ]
  },
  {
   "cell_type": "code",
   "execution_count": 13,
   "metadata": {},
   "outputs": [
    {
     "name": "stdout",
     "output_type": "stream",
     "text": [
      "(2, 501)\n",
      "Process name : <Euler Method Evolution> Execution Time: 0.03897714614868164time units\n",
      "\n",
      "\n",
      "Code mean time: 0.03897714614868164s\n"
     ]
    }
   ],
   "source": [
    "from DynamicSystem import time_complexity\n",
    "from time import time\n",
    "\n",
    "profiling_processes = 1\n",
    "mean_time = 0\n",
    "\n",
    "for n in range(profiling_processes):\n",
    "    with time_complexity('Euler Method Evolution', profiling_processes) as val:\n",
    "        t_e = np.linspace(0, 1, 500)\n",
    "        y0_e = [0, 0]\n",
    "        state_matrix_e = wrapper(16, 400, 400, lambda x, d_t: 1) \n",
    "        y_e = euler_method(t_e, state_matrix_e, y0_e, lambda x, d_t: 1)\n",
    "        mean_time += -(val-time())/profiling_processes\n",
    "\n",
    "print('\\n\\nCode mean time: ' +str(mean_time)+ 's')"
   ]
  },
  {
   "cell_type": "code",
   "execution_count": 14,
   "metadata": {},
   "outputs": [
    {
     "name": "stdout",
     "output_type": "stream",
     "text": [
      "Process name : <Midpoint Euler Method Evolution> Execution Time: 0.05896592140197754time units\n",
      "\n",
      "\n",
      "Code mean time: 0.05896592140197754s\n"
     ]
    }
   ],
   "source": [
    "'''Se está tomando el tiempo que toma llevar a cabo el metodo Midpoint Euler'''\n",
    "profiling_processes = 1\n",
    "mean_time = 0\n",
    "\n",
    "\"\"\"Code to time profile\"\"\"\n",
    "\n",
    "for n in range(profiling_processes):\n",
    "    with time_complexity('Midpoint Euler Method Evolution', profiling_processes) as val:\n",
    "        t_me = np.linspace(0, 1, 500)\n",
    "        state_matrix_me = wrapper(16, 400, 400, lambda x, d_t: 1) \n",
    "        y_me = modified_euler(t_me,state_matrix_me,lambda x,d_t:1)\n",
    "        mean_time += -(val-time())/profiling_processes\n",
    "        \n",
    "print('\\n\\nCode mean time: ' +str(mean_time)+ 's')"
   ]
  },
  {
   "cell_type": "markdown",
   "metadata": {},
   "source": [
    "## Midiendo tiempo de Ejecución 2\n",
    "\n",
    "La otra manera de medir tiempo es a través de un line profiler, el cual analiza linea por linea el tiempo que el código ha tardado. A continuación se presenta como se realizará.\n",
    "\n",
    "Nota: En caso de que sea la primera vez utilizando el método, ejecuta la siguiente linea de código en una celda aparte:\n",
    "``` Python \n",
    "!pip install cython\n",
    "!pip install git+https://github.com/rkern/line_profiler\n",
    "```"
   ]
  },
  {
   "cell_type": "code",
   "execution_count": 15,
   "metadata": {},
   "outputs": [],
   "source": [
    "#!pip install git+https://github.com/rkern/line_profiler"
   ]
  },
  {
   "cell_type": "markdown",
   "metadata": {},
   "source": [
    "Python time line profiler\n",
    "\n",
    "``` Python \n",
    "%load_ext line_profiler\n",
    "%lprun -f euler_method euler_method(t, state_matrix, y0, lambda x, d_t: 1)\n",
    "```\n",
    "\n"
   ]
  },
  {
   "cell_type": "markdown",
   "metadata": {},
   "source": [
    "Compara ambos métodos con ambos profilers y responde:\n",
    "\n",
    "- Qué método cuenta con el menor error? \n",
    "        El metodo de midpoint euler cuenta con menor error\n",
    "- Qué método es el mas rápido?\n",
    "        El Metodo de Euler\n",
    "- Basado en tus calculos, que número de puntos son necesarios para igualar el error en ambos métodos?\n",
    "        Los puntos mínimos son 500\n",
    "\n"
   ]
  },
  {
   "cell_type": "markdown",
   "metadata": {},
   "source": [
    "# Reto II \n",
    "\n",
    "Tu equipo intenta generar el mejor control para el manejo del último auto elêctrico de tu compañia Trebsla. Para ello, ellos piensan en comenzar el modelado utilizando control clásico. Una copia del diagrama se encuentra en el siguiente esquemático:\n",
    "\n",
    "\n",
    "<img src=\"imgs/car.png\" alt=\"Drawing\" style=\"width: 300px;\"/>\n",
    "\n",
    "$ A = 48 $\n",
    "\n",
    "$ Lm = 40 mH $\n",
    "\n",
    "$ Rm = 10 ohms $\n",
    "\n",
    "$ WI = 15 kg $\n",
    "\n",
    "$ Mc = 1.5 Ton $\n",
    "\n",
    "$ K_t = 377 \\frac{m}{s V}$\n",
    "\n",
    "$ Rw = 0.64 m $\n",
    "\n",
    "\n",
    "\n",
    "La entrada del sistema es la posición del acelerador con respecto al piso del automovil. La salida es la velocidad tangencial del Trebsla. Tu misión es la siguiente:\n",
    "\n",
    "- Utilizando un agente, calcula la matriz de estados de la aceleración y la velocidad del auto\n",
    "- Evoluciona el sistema a presionar el pedal a una velocidad definida. \n",
    "- Utiliza ambos métodos con 100 puntos cada uno usando el método de Euler y Euler extendido.\n",
    "- Analiza el tiempo de predicción de cada uno de los métodos!\n",
    "- Que control utilizarias para reducir su tiempo de establecimiento sin causar oscilaciones?\n",
    "\n"
   ]
  },
  {
   "cell_type": "code",
   "execution_count": 75,
   "metadata": {},
   "outputs": [
    {
     "name": "stdout",
     "output_type": "stream",
     "text": [
      "(2, 126)\n"
     ]
    }
   ],
   "source": [
    "a0 = 5269.7\n",
    "a1 = 250\n",
    "b0 = 429.3\n",
    "tmax4 = 1\n",
    "tam4 = 125\n",
    "Reto2 = Agente('Reto',a0,a1,b0,tmax4,tam4)"
   ]
  },
  {
   "cell_type": "code",
   "execution_count": 76,
   "metadata": {},
   "outputs": [],
   "source": [
    "Reto2.vect_mid_euler = modified_euler(Reto2.t_e,Reto2.ss,lambda x,d_t:1)\n",
    "Reto2.vect_temp = System_error(Reto2.vect_mid_euler[:,1],Reto2.vect_euler[1,:])"
   ]
  },
  {
   "cell_type": "code",
   "execution_count": 77,
   "metadata": {},
   "outputs": [
    {
     "data": {
      "image/png": "[encoded data removed]",
      "text/plain": [
       "<Figure size 720x504 with 1 Axes>"
      ]
     },
     "metadata": {
      "needs_background": "light"
     },
     "output_type": "display_data"
    }
   ],
   "source": [
    "plotter(Reto2.vect_temp,Reto2.vect_euler[1,:],Reto2.vect_mid_euler[:,1],'Error','EulerMethod','MidpointEulerMethod',tmax4,tam4)"
   ]
  },
  {
   "cell_type": "code",
   "execution_count": null,
   "metadata": {},
   "outputs": [],
   "source": []
  }
 ],
 "metadata": {
  "kernelspec": {
   "display_name": "Python 3",
   "language": "python",
   "name": "python3"
  },
  "language_info": {
   "codemirror_mode": {
    "name": "ipython",
    "version": 3
   },
   "file_extension": ".py",
   "mimetype": "text/x-python",
   "name": "python",
   "nbconvert_exporter": "python",
   "pygments_lexer": "ipython3",
   "version": "3.8.3"
  }
 },
 "nbformat": 4,
 "nbformat_minor": 4
}
